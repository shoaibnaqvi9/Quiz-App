{
 "cells": [
  {
   "cell_type": "markdown",
   "metadata": {},
   "source": [
    "# Quiz App Using Python Data Structures"
   ]
  },
  {
   "cell_type": "code",
   "execution_count": 6,
   "metadata": {},
   "outputs": [],
   "source": [
    "import tkinter as tk\n",
    "from tkinter import messagebox\n",
    "\n",
    "root = tk.Tk()\n",
    "root.title(\"Quiz Application\")\n",
    "root.geometry(\"750x550\")\n",
    "\n",
    "main_frame = tk.Frame(root)\n",
    "main_frame.pack(fill=tk.BOTH, expand=1)\n",
    "\n",
    "my_canvas = tk.Canvas(main_frame)\n",
    "my_canvas.pack(side=tk.LEFT, fill=tk.BOTH, expand=1)\n",
    "\n",
    "my_scrollbar = tk.Scrollbar(main_frame, orient=tk.VERTICAL, command=my_canvas.yview)\n",
    "my_scrollbar.pack(side=tk.RIGHT, fill=tk.Y)\n",
    "\n",
    "my_canvas.configure(yscrollcommand=my_scrollbar.set)\n",
    "my_canvas.bind('<Configure>', lambda e: my_canvas.configure(scrollregion=my_canvas.bbox(\"all\")))\n",
    "\n",
    "second_frame = tk.Frame(my_canvas)\n",
    "\n",
    "my_canvas.create_window((0,0), window=second_frame, anchor=\"nw\")\n",
    "\n",
    "Hlabel = tk.Label(second_frame, text=\"--------Python Data Structures Quiz Application--------\", fg=\"white\", bg=\"grey\", font=(\"Helvetica\", 18, \"bold\"), width=50, height=2)\n",
    "Hlabel.pack()\n",
    "\n",
    "quiz_questions = {\n",
    "    'Which of the following is the correct syntax to output \"Hello World\" in Python?' : ['echo \"Hello World\"' , 'print(\"Hello World\")' , 'printf(\"Hello World\")', 'cout << \"Hello World\"'],\n",
    "    'Which of the following data types is immutable in Python?' : ['List' , 'Dictionary' , 'Set', 'Tuple'],\n",
    "    'Which of the following is not a valid Python data type?' : ['int' , 'float' , 'str', 'real'],\n",
    "    'How do you start a comment in Python?' : ['//' , '/*' , '#', '<!--'],\n",
    "    'Which of the following statements is used to create a function in Python?' : ['function myFunc():' , 'def myFunc():' , 'create myFunc():', 'define myFunc():'],\n",
    "    'What data type is used to represent textual data in Python?' : ['Integer' , 'Float' , 'String', 'Boolean'],\n",
    "    'Which function is used to get the length of a list in Python?' : ['size()' , 'length()' , 'count()', 'len()'],\n",
    "    'Which of the following is a valid variable name in Python?' : ['1variable' , 'variable_name' , 'variable-name', 'variable name'],\n",
    "    'What is the keyword used to define a conditional statement in Python?' : ['if' , 'when' , 'condition', 'switch'],\n",
    "    'What keyword is used to start a loop that iterates over a sequence of elements?' : ['loop' , 'repeat' , 'for', 'iterate']\n",
    "}\n",
    "\n",
    "correct_options = ('B','D','D','C','B','C','D','B','A','C')\n",
    "user_entries = []\n",
    "\n",
    "for index, (question, option) in enumerate(quiz_questions.items()):\n",
    "    Qlabel1 = tk.Label(second_frame, text=f\"{index+1}- {question}\", font=(\"Calibri\", 14), anchor='w', justify='left')\n",
    "    Qlabel2 = tk.Label(second_frame, text=f\"A. {option[0]}\\nB. {option[1]}\\nC. {option[2]}\\nD. {option[3]}\", font=(\"Calibri\", 12, 'italic'), anchor='w', justify='left')\n",
    "\n",
    "    Qlabel1.pack(fill='x', padx=10, pady=5)\n",
    "    Qlabel2.pack(fill='x', padx=10, pady=5)\n",
    "    \n",
    "    user_defined_entry = tk.Entry(second_frame)\n",
    "    user_defined_entry.pack(padx=10, pady=5)\n",
    "    user_entries.append(user_defined_entry)\n",
    "\n",
    "def submit_answers():\n",
    "    global score\n",
    "    score = 0\n",
    "    for index, entry in enumerate(user_entries):\n",
    "        answer = entry.get().upper()\n",
    "        if answer == correct_options[index]:\n",
    "            score += 1\n",
    "    score_percent = (score / len(quiz_questions)) * 100\n",
    "    messagebox.showinfo(\"Result\", f\"Your total score is {score}\\nYou secured {score_percent}%\")\n",
    "\n",
    "\n",
    "submit_button = tk.Button(second_frame, text=\"Submit\", command=submit_answers, bg='grey', fg='white', font=(\"Calibri\", 14, 'bold'), width=8)\n",
    "submit_button.pack()\n",
    "\n",
    "root.mainloop()"
   ]
  },
  {
   "cell_type": "code",
   "execution_count": null,
   "metadata": {},
   "outputs": [],
   "source": []
  }
 ],
 "metadata": {
  "kernelspec": {
   "display_name": "Python 3",
   "language": "python",
   "name": "python3"
  },
  "language_info": {
   "codemirror_mode": {
    "name": "ipython",
    "version": 3
   },
   "file_extension": ".py",
   "mimetype": "text/x-python",
   "name": "python",
   "nbconvert_exporter": "python",
   "pygments_lexer": "ipython3",
   "version": "3.7.4"
  }
 },
 "nbformat": 4,
 "nbformat_minor": 2
}
